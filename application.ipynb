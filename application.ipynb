{
 "cells": [
  {
   "cell_type": "code",
   "execution_count": 1,
   "id": "identical-logan",
   "metadata": {},
   "outputs": [],
   "source": [
    "import pandas as pd\n",
    "import glob\n",
    "import numpy as np\n",
    "import matplotlib.pyplot as plt\n",
    "from fonctions import *\n",
    "from graph import *\n",
    "import time"
   ]
  },
  {
   "cell_type": "markdown",
   "id": "proprietary-relation",
   "metadata": {},
   "source": [
    "#### Importer les fichiers"
   ]
  },
  {
   "cell_type": "code",
   "execution_count": 2,
   "id": "seven-engagement",
   "metadata": {},
   "outputs": [],
   "source": [
    "# dts --------------------------------------------------------------------------\n",
    "files = np.sort(glob.glob('/Volumes/MARINOUILLE/dts/s/Controller/4061/Fibre 02/2021/*.txt'))\n",
    "len(files)\n",
    "ntime=100; npos=100\n",
    "pos0, temp0, time0, dates0 = read_files_dts(files, ntime, npos)\n",
    "\n",
    "# dsts  ------------------------------------------------------------------------\n",
    "L=4359\n",
    "files = np.sort(glob.glob('/Volumes/MARINOUILLE/*.tep'))\n",
    "ntime=100; npos=100\n",
    "pos1, temp1, time1, dates1 = read_files_dsts(files, L, ntime, npos)\n",
    "\n",
    "# datalogger  ----------------------------------------------------------------\n",
    "file='datalogger.csv'\n",
    "temp2, time2, dates2 = read_datalogger(file)\n",
    "\n",
    "# Format \n",
    "dts = (pos0,temp0,time0,dates0)\n",
    "dsts = (pos1,temp1,time1,dates1)\n",
    "dl = (temp2, time2, dates2)"
   ]
  },
  {
   "cell_type": "markdown",
   "id": "traditional-junior",
   "metadata": {},
   "source": [
    "#### Graphiques"
   ]
  },
  {
   "cell_type": "code",
   "execution_count": 3,
   "id": "auburn-alaska",
   "metadata": {},
   "outputs": [
    {
     "name": "stderr",
     "output_type": "stream",
     "text": [
      "/usr/local/lib/python3.8/site-packages/plotly/graph_objs/_deprecations.py:378: DeprecationWarning:\n",
      "\n",
      "plotly.graph_objs.Line is deprecated.\n",
      "Please replace it with one of the following more specific types\n",
      "  - plotly.graph_objs.scatter.Line\n",
      "  - plotly.graph_objs.layout.shape.Line\n",
      "  - etc.\n",
      "\n",
      "\n"
     ]
    }
   ],
   "source": [
    "fig1  = moyenne_pos_3(dates0,temp0,dates1,temp1,dates2,temp2)\n",
    "fig2  = surface_plot(dts, name='DTS')\n",
    "fig3  = vis_3d(dts, dsts)\n",
    "fig4  = temp_at_pos(dsts, name='DSTS')"
   ]
  },
  {
   "cell_type": "code",
   "execution_count": 17,
   "id": "french-boost",
   "metadata": {},
   "outputs": [
    {
     "name": "stdout",
     "output_type": "stream",
     "text": [
      "Dash app running on http://127.0.0.1:8050/\n"
     ]
    }
   ],
   "source": [
    "import dash\n",
    "import dash_core_components as dcc\n",
    "import dash_html_components as html\n",
    "from jupyter_dash import JupyterDash\n",
    "\n",
    "app = JupyterDash(__name__)\n",
    "app.layout = html.Div([\n",
    "    html.Div([\n",
    "    dcc.Graph(figure=fig1)\n",
    "]),\n",
    "    html.Div([\n",
    "    dcc.Graph(figure=fig2)\n",
    "]),\n",
    "    html.Div([\n",
    "    dcc.Graph(figure=fig3)\n",
    "]),\n",
    "    html.Div([\n",
    "    dcc.Graph(figure=fig4)\n",
    "])\n",
    "])\n",
    "\n",
    "app.run_server(mode='external')"
   ]
  }
 ],
 "metadata": {
  "kernelspec": {
   "display_name": "Python 3",
   "language": "python",
   "name": "python3"
  },
  "language_info": {
   "codemirror_mode": {
    "name": "ipython",
    "version": 3
   },
   "file_extension": ".py",
   "mimetype": "text/x-python",
   "name": "python",
   "nbconvert_exporter": "python",
   "pygments_lexer": "ipython3",
   "version": "3.8.6"
  }
 },
 "nbformat": 4,
 "nbformat_minor": 5
}
